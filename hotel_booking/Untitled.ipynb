{
 "cells": [
  {
   "cell_type": "code",
   "execution_count": 7,
   "id": "b386b78a-e94e-4f3f-85f8-898b1f93eec8",
   "metadata": {},
   "outputs": [],
   "source": [
    "import pandas as pd"
   ]
  },
  {
   "cell_type": "code",
   "execution_count": 16,
   "id": "00d93aa3-730c-46c0-a309-c84ddaab6b36",
   "metadata": {},
   "outputs": [],
   "source": [
    "hotel_bookings = pd.read_csv('hotel_bookings.csv')"
   ]
  },
  {
   "cell_type": "code",
   "execution_count": 25,
   "id": "97065b44",
   "metadata": {},
   "outputs": [
    {
     "data": {
      "text/plain": [
       "Index(['unnamed', 'hotel', 'is_canceled', 'lead_time', 'arrival_date_year',\n",
       "       'arrival_date_month', 'arrival_date_week_number',\n",
       "       'arrival_date_day_of_month', 'stays_in_weekend_nights',\n",
       "       'stays_in_week_nights', 'adults', 'children', 'babies', 'meal',\n",
       "       'country', 'market_segment', 'distribution_channel',\n",
       "       'is_repeated_guest', 'previous_cancellations',\n",
       "       'previous_bookings_not_canceled', 'reserved_room_type',\n",
       "       'assigned_room_type', 'booking_changes', 'deposit_type', 'agent',\n",
       "       'company', 'days_in_waiting_list', 'customer_type', 'adr',\n",
       "       'required_car_parking_spaces', 'total_of_special_requests',\n",
       "       'reservation_status', 'reservation_status_date'],\n",
       "      dtype='object')"
      ]
     },
     "execution_count": 25,
     "metadata": {},
     "output_type": "execute_result"
    }
   ],
   "source": [
    "hotel_bookings.loc[0, 'unnamed'] = 0\n",
    "hotel_bookings.columns"
   ]
  },
  {
   "cell_type": "code",
   "execution_count": 36,
   "id": "8a4f2b8a",
   "metadata": {},
   "outputs": [
    {
     "data": {
      "application/vnd.microsoft.datawrangler.viewer.v0+json": {
       "columns": [
        {
         "name": "index",
         "rawType": "int64",
         "type": "integer"
        },
        {
         "name": "hotel",
         "rawType": "object",
         "type": "string"
        },
        {
         "name": "is_canceled",
         "rawType": "int64",
         "type": "integer"
        },
        {
         "name": "lead_time",
         "rawType": "int64",
         "type": "integer"
        },
        {
         "name": "arrival_date_year",
         "rawType": "int64",
         "type": "integer"
        },
        {
         "name": "arrival_date_month",
         "rawType": "object",
         "type": "string"
        },
        {
         "name": "arrival_date_week_number",
         "rawType": "int64",
         "type": "integer"
        },
        {
         "name": "arrival_date_day_of_month",
         "rawType": "int64",
         "type": "integer"
        },
        {
         "name": "stays_in_weekend_nights",
         "rawType": "int64",
         "type": "integer"
        },
        {
         "name": "stays_in_week_nights",
         "rawType": "int64",
         "type": "integer"
        },
        {
         "name": "adult_count",
         "rawType": "int64",
         "type": "integer"
        },
        {
         "name": "child_count",
         "rawType": "float64",
         "type": "float"
        },
        {
         "name": "baby_count",
         "rawType": "int64",
         "type": "integer"
        },
        {
         "name": "meal",
         "rawType": "object",
         "type": "string"
        },
        {
         "name": "country",
         "rawType": "object",
         "type": "string"
        },
        {
         "name": "market_segment",
         "rawType": "object",
         "type": "string"
        },
        {
         "name": "distribution_channel",
         "rawType": "object",
         "type": "string"
        },
        {
         "name": "is_repeated_guest",
         "rawType": "int64",
         "type": "integer"
        },
        {
         "name": "previous_cancellations",
         "rawType": "int64",
         "type": "integer"
        },
        {
         "name": "previous_bookings_not_canceled",
         "rawType": "int64",
         "type": "integer"
        },
        {
         "name": "reserved_room_type",
         "rawType": "object",
         "type": "string"
        },
        {
         "name": "assigned_room_type",
         "rawType": "object",
         "type": "string"
        },
        {
         "name": "booking_changes",
         "rawType": "int64",
         "type": "integer"
        },
        {
         "name": "deposit_type",
         "rawType": "object",
         "type": "string"
        },
        {
         "name": "agent",
         "rawType": "float64",
         "type": "float"
        },
        {
         "name": "company",
         "rawType": "float64",
         "type": "float"
        },
        {
         "name": "days_in_waiting_list",
         "rawType": "int64",
         "type": "integer"
        },
        {
         "name": "customer_type",
         "rawType": "object",
         "type": "string"
        },
        {
         "name": "adr",
         "rawType": "float64",
         "type": "float"
        },
        {
         "name": "required_car_parking_spaces",
         "rawType": "int64",
         "type": "integer"
        },
        {
         "name": "total_of_special_requests",
         "rawType": "int64",
         "type": "integer"
        },
        {
         "name": "reservation_status",
         "rawType": "object",
         "type": "string"
        },
        {
         "name": "reservation_status_date",
         "rawType": "object",
         "type": "string"
        }
       ],
       "ref": "3ee663ea-5dc0-4f04-ae72-6607c646750c",
       "rows": [
        [
         "0",
         "Resort Hotel",
         "0",
         "342",
         "2015",
         "July",
         "27",
         "1",
         "0",
         "0",
         "2",
         "0.0",
         "0",
         "BB",
         "PRT",
         "Direct",
         "Direct",
         "0",
         "0",
         "0",
         "C",
         "C",
         "3",
         "No Deposit",
         null,
         null,
         "0",
         "Transient",
         "0.0",
         "0",
         "0",
         "Check-Out",
         "2015-07-01"
        ],
        [
         "1",
         "Resort Hotel",
         "0",
         "737",
         "2015",
         "July",
         "27",
         "1",
         "0",
         "0",
         "2",
         "0.0",
         "0",
         "BB",
         "PRT",
         "Direct",
         "Direct",
         "0",
         "0",
         "0",
         "C",
         "C",
         "4",
         "No Deposit",
         null,
         null,
         "0",
         "Transient",
         "0.0",
         "0",
         "0",
         "Check-Out",
         "2015-07-01"
        ],
        [
         "2",
         "Resort Hotel",
         "0",
         "7",
         "2015",
         "July",
         "27",
         "1",
         "0",
         "1",
         "1",
         "0.0",
         "0",
         "BB",
         "GBR",
         "Direct",
         "Direct",
         "0",
         "0",
         "0",
         "A",
         "C",
         "0",
         "No Deposit",
         null,
         null,
         "0",
         "Transient",
         "75.0",
         "0",
         "0",
         "Check-Out",
         "2015-07-02"
        ],
        [
         "3",
         "Resort Hotel",
         "0",
         "13",
         "2015",
         "July",
         "27",
         "1",
         "0",
         "1",
         "1",
         "0.0",
         "0",
         "BB",
         "GBR",
         "Corporate",
         "Corporate",
         "0",
         "0",
         "0",
         "A",
         "A",
         "0",
         "No Deposit",
         "304.0",
         null,
         "0",
         "Transient",
         "75.0",
         "0",
         "0",
         "Check-Out",
         "2015-07-02"
        ],
        [
         "4",
         "Resort Hotel",
         "0",
         "14",
         "2015",
         "July",
         "27",
         "1",
         "0",
         "2",
         "2",
         "0.0",
         "0",
         "BB",
         "GBR",
         "Online TA",
         "TA/TO",
         "0",
         "0",
         "0",
         "A",
         "A",
         "0",
         "No Deposit",
         "240.0",
         null,
         "0",
         "Transient",
         "98.0",
         "0",
         "1",
         "Check-Out",
         "2015-07-03"
        ],
        [
         "5",
         "Resort Hotel",
         "0",
         "14",
         "2015",
         "July",
         "27",
         "1",
         "0",
         "2",
         "2",
         "0.0",
         "0",
         "BB",
         "GBR",
         "Online TA",
         "TA/TO",
         "0",
         "0",
         "0",
         "A",
         "A",
         "0",
         "No Deposit",
         "240.0",
         null,
         "0",
         "Transient",
         "98.0",
         "0",
         "1",
         "Check-Out",
         "2015-07-03"
        ],
        [
         "6",
         "Resort Hotel",
         "0",
         "0",
         "2015",
         "July",
         "27",
         "1",
         "0",
         "2",
         "2",
         "0.0",
         "0",
         "BB",
         "PRT",
         "Direct",
         "Direct",
         "0",
         "0",
         "0",
         "C",
         "C",
         "0",
         "No Deposit",
         null,
         null,
         "0",
         "Transient",
         "107.0",
         "0",
         "0",
         "Check-Out",
         "2015-07-03"
        ],
        [
         "7",
         "Resort Hotel",
         "0",
         "9",
         "2015",
         "July",
         "27",
         "1",
         "0",
         "2",
         "2",
         "0.0",
         "0",
         "FB",
         "PRT",
         "Direct",
         "Direct",
         "0",
         "0",
         "0",
         "C",
         "C",
         "0",
         "No Deposit",
         "303.0",
         null,
         "0",
         "Transient",
         "103.0",
         "0",
         "1",
         "Check-Out",
         "2015-07-03"
        ],
        [
         "8",
         "Resort Hotel",
         "1",
         "85",
         "2015",
         "July",
         "27",
         "1",
         "0",
         "3",
         "2",
         "0.0",
         "0",
         "BB",
         "PRT",
         "Online TA",
         "TA/TO",
         "0",
         "0",
         "0",
         "A",
         "A",
         "0",
         "No Deposit",
         "240.0",
         null,
         "0",
         "Transient",
         "82.0",
         "0",
         "1",
         "Canceled",
         "2015-05-06"
        ],
        [
         "9",
         "Resort Hotel",
         "1",
         "75",
         "2015",
         "July",
         "27",
         "1",
         "0",
         "3",
         "2",
         "0.0",
         "0",
         "HB",
         "PRT",
         "Offline TA/TO",
         "TA/TO",
         "0",
         "0",
         "0",
         "D",
         "D",
         "0",
         "No Deposit",
         "15.0",
         null,
         "0",
         "Transient",
         "105.5",
         "0",
         "0",
         "Canceled",
         "2015-04-22"
        ]
       ],
       "shape": {
        "columns": 32,
        "rows": 10
       }
      },
      "text/html": [
       "<div>\n",
       "<style scoped>\n",
       "    .dataframe tbody tr th:only-of-type {\n",
       "        vertical-align: middle;\n",
       "    }\n",
       "\n",
       "    .dataframe tbody tr th {\n",
       "        vertical-align: top;\n",
       "    }\n",
       "\n",
       "    .dataframe thead th {\n",
       "        text-align: right;\n",
       "    }\n",
       "</style>\n",
       "<table border=\"1\" class=\"dataframe\">\n",
       "  <thead>\n",
       "    <tr style=\"text-align: right;\">\n",
       "      <th></th>\n",
       "      <th>hotel</th>\n",
       "      <th>is_canceled</th>\n",
       "      <th>lead_time</th>\n",
       "      <th>arrival_date_year</th>\n",
       "      <th>arrival_date_month</th>\n",
       "      <th>arrival_date_week_number</th>\n",
       "      <th>arrival_date_day_of_month</th>\n",
       "      <th>stays_in_weekend_nights</th>\n",
       "      <th>stays_in_week_nights</th>\n",
       "      <th>adult_count</th>\n",
       "      <th>...</th>\n",
       "      <th>deposit_type</th>\n",
       "      <th>agent</th>\n",
       "      <th>company</th>\n",
       "      <th>days_in_waiting_list</th>\n",
       "      <th>customer_type</th>\n",
       "      <th>adr</th>\n",
       "      <th>required_car_parking_spaces</th>\n",
       "      <th>total_of_special_requests</th>\n",
       "      <th>reservation_status</th>\n",
       "      <th>reservation_status_date</th>\n",
       "    </tr>\n",
       "  </thead>\n",
       "  <tbody>\n",
       "    <tr>\n",
       "      <th>0</th>\n",
       "      <td>Resort Hotel</td>\n",
       "      <td>0</td>\n",
       "      <td>342</td>\n",
       "      <td>2015</td>\n",
       "      <td>July</td>\n",
       "      <td>27</td>\n",
       "      <td>1</td>\n",
       "      <td>0</td>\n",
       "      <td>0</td>\n",
       "      <td>2</td>\n",
       "      <td>...</td>\n",
       "      <td>No Deposit</td>\n",
       "      <td>NaN</td>\n",
       "      <td>NaN</td>\n",
       "      <td>0</td>\n",
       "      <td>Transient</td>\n",
       "      <td>0.0</td>\n",
       "      <td>0</td>\n",
       "      <td>0</td>\n",
       "      <td>Check-Out</td>\n",
       "      <td>2015-07-01</td>\n",
       "    </tr>\n",
       "    <tr>\n",
       "      <th>1</th>\n",
       "      <td>Resort Hotel</td>\n",
       "      <td>0</td>\n",
       "      <td>737</td>\n",
       "      <td>2015</td>\n",
       "      <td>July</td>\n",
       "      <td>27</td>\n",
       "      <td>1</td>\n",
       "      <td>0</td>\n",
       "      <td>0</td>\n",
       "      <td>2</td>\n",
       "      <td>...</td>\n",
       "      <td>No Deposit</td>\n",
       "      <td>NaN</td>\n",
       "      <td>NaN</td>\n",
       "      <td>0</td>\n",
       "      <td>Transient</td>\n",
       "      <td>0.0</td>\n",
       "      <td>0</td>\n",
       "      <td>0</td>\n",
       "      <td>Check-Out</td>\n",
       "      <td>2015-07-01</td>\n",
       "    </tr>\n",
       "    <tr>\n",
       "      <th>2</th>\n",
       "      <td>Resort Hotel</td>\n",
       "      <td>0</td>\n",
       "      <td>7</td>\n",
       "      <td>2015</td>\n",
       "      <td>July</td>\n",
       "      <td>27</td>\n",
       "      <td>1</td>\n",
       "      <td>0</td>\n",
       "      <td>1</td>\n",
       "      <td>1</td>\n",
       "      <td>...</td>\n",
       "      <td>No Deposit</td>\n",
       "      <td>NaN</td>\n",
       "      <td>NaN</td>\n",
       "      <td>0</td>\n",
       "      <td>Transient</td>\n",
       "      <td>75.0</td>\n",
       "      <td>0</td>\n",
       "      <td>0</td>\n",
       "      <td>Check-Out</td>\n",
       "      <td>2015-07-02</td>\n",
       "    </tr>\n",
       "    <tr>\n",
       "      <th>3</th>\n",
       "      <td>Resort Hotel</td>\n",
       "      <td>0</td>\n",
       "      <td>13</td>\n",
       "      <td>2015</td>\n",
       "      <td>July</td>\n",
       "      <td>27</td>\n",
       "      <td>1</td>\n",
       "      <td>0</td>\n",
       "      <td>1</td>\n",
       "      <td>1</td>\n",
       "      <td>...</td>\n",
       "      <td>No Deposit</td>\n",
       "      <td>304.0</td>\n",
       "      <td>NaN</td>\n",
       "      <td>0</td>\n",
       "      <td>Transient</td>\n",
       "      <td>75.0</td>\n",
       "      <td>0</td>\n",
       "      <td>0</td>\n",
       "      <td>Check-Out</td>\n",
       "      <td>2015-07-02</td>\n",
       "    </tr>\n",
       "    <tr>\n",
       "      <th>4</th>\n",
       "      <td>Resort Hotel</td>\n",
       "      <td>0</td>\n",
       "      <td>14</td>\n",
       "      <td>2015</td>\n",
       "      <td>July</td>\n",
       "      <td>27</td>\n",
       "      <td>1</td>\n",
       "      <td>0</td>\n",
       "      <td>2</td>\n",
       "      <td>2</td>\n",
       "      <td>...</td>\n",
       "      <td>No Deposit</td>\n",
       "      <td>240.0</td>\n",
       "      <td>NaN</td>\n",
       "      <td>0</td>\n",
       "      <td>Transient</td>\n",
       "      <td>98.0</td>\n",
       "      <td>0</td>\n",
       "      <td>1</td>\n",
       "      <td>Check-Out</td>\n",
       "      <td>2015-07-03</td>\n",
       "    </tr>\n",
       "    <tr>\n",
       "      <th>5</th>\n",
       "      <td>Resort Hotel</td>\n",
       "      <td>0</td>\n",
       "      <td>14</td>\n",
       "      <td>2015</td>\n",
       "      <td>July</td>\n",
       "      <td>27</td>\n",
       "      <td>1</td>\n",
       "      <td>0</td>\n",
       "      <td>2</td>\n",
       "      <td>2</td>\n",
       "      <td>...</td>\n",
       "      <td>No Deposit</td>\n",
       "      <td>240.0</td>\n",
       "      <td>NaN</td>\n",
       "      <td>0</td>\n",
       "      <td>Transient</td>\n",
       "      <td>98.0</td>\n",
       "      <td>0</td>\n",
       "      <td>1</td>\n",
       "      <td>Check-Out</td>\n",
       "      <td>2015-07-03</td>\n",
       "    </tr>\n",
       "    <tr>\n",
       "      <th>6</th>\n",
       "      <td>Resort Hotel</td>\n",
       "      <td>0</td>\n",
       "      <td>0</td>\n",
       "      <td>2015</td>\n",
       "      <td>July</td>\n",
       "      <td>27</td>\n",
       "      <td>1</td>\n",
       "      <td>0</td>\n",
       "      <td>2</td>\n",
       "      <td>2</td>\n",
       "      <td>...</td>\n",
       "      <td>No Deposit</td>\n",
       "      <td>NaN</td>\n",
       "      <td>NaN</td>\n",
       "      <td>0</td>\n",
       "      <td>Transient</td>\n",
       "      <td>107.0</td>\n",
       "      <td>0</td>\n",
       "      <td>0</td>\n",
       "      <td>Check-Out</td>\n",
       "      <td>2015-07-03</td>\n",
       "    </tr>\n",
       "    <tr>\n",
       "      <th>7</th>\n",
       "      <td>Resort Hotel</td>\n",
       "      <td>0</td>\n",
       "      <td>9</td>\n",
       "      <td>2015</td>\n",
       "      <td>July</td>\n",
       "      <td>27</td>\n",
       "      <td>1</td>\n",
       "      <td>0</td>\n",
       "      <td>2</td>\n",
       "      <td>2</td>\n",
       "      <td>...</td>\n",
       "      <td>No Deposit</td>\n",
       "      <td>303.0</td>\n",
       "      <td>NaN</td>\n",
       "      <td>0</td>\n",
       "      <td>Transient</td>\n",
       "      <td>103.0</td>\n",
       "      <td>0</td>\n",
       "      <td>1</td>\n",
       "      <td>Check-Out</td>\n",
       "      <td>2015-07-03</td>\n",
       "    </tr>\n",
       "    <tr>\n",
       "      <th>8</th>\n",
       "      <td>Resort Hotel</td>\n",
       "      <td>1</td>\n",
       "      <td>85</td>\n",
       "      <td>2015</td>\n",
       "      <td>July</td>\n",
       "      <td>27</td>\n",
       "      <td>1</td>\n",
       "      <td>0</td>\n",
       "      <td>3</td>\n",
       "      <td>2</td>\n",
       "      <td>...</td>\n",
       "      <td>No Deposit</td>\n",
       "      <td>240.0</td>\n",
       "      <td>NaN</td>\n",
       "      <td>0</td>\n",
       "      <td>Transient</td>\n",
       "      <td>82.0</td>\n",
       "      <td>0</td>\n",
       "      <td>1</td>\n",
       "      <td>Canceled</td>\n",
       "      <td>2015-05-06</td>\n",
       "    </tr>\n",
       "    <tr>\n",
       "      <th>9</th>\n",
       "      <td>Resort Hotel</td>\n",
       "      <td>1</td>\n",
       "      <td>75</td>\n",
       "      <td>2015</td>\n",
       "      <td>July</td>\n",
       "      <td>27</td>\n",
       "      <td>1</td>\n",
       "      <td>0</td>\n",
       "      <td>3</td>\n",
       "      <td>2</td>\n",
       "      <td>...</td>\n",
       "      <td>No Deposit</td>\n",
       "      <td>15.0</td>\n",
       "      <td>NaN</td>\n",
       "      <td>0</td>\n",
       "      <td>Transient</td>\n",
       "      <td>105.5</td>\n",
       "      <td>0</td>\n",
       "      <td>0</td>\n",
       "      <td>Canceled</td>\n",
       "      <td>2015-04-22</td>\n",
       "    </tr>\n",
       "  </tbody>\n",
       "</table>\n",
       "<p>10 rows × 32 columns</p>\n",
       "</div>"
      ],
      "text/plain": [
       "          hotel  is_canceled  lead_time  arrival_date_year arrival_date_month  \\\n",
       "0  Resort Hotel            0        342               2015               July   \n",
       "1  Resort Hotel            0        737               2015               July   \n",
       "2  Resort Hotel            0          7               2015               July   \n",
       "3  Resort Hotel            0         13               2015               July   \n",
       "4  Resort Hotel            0         14               2015               July   \n",
       "5  Resort Hotel            0         14               2015               July   \n",
       "6  Resort Hotel            0          0               2015               July   \n",
       "7  Resort Hotel            0          9               2015               July   \n",
       "8  Resort Hotel            1         85               2015               July   \n",
       "9  Resort Hotel            1         75               2015               July   \n",
       "\n",
       "   arrival_date_week_number  arrival_date_day_of_month  \\\n",
       "0                        27                          1   \n",
       "1                        27                          1   \n",
       "2                        27                          1   \n",
       "3                        27                          1   \n",
       "4                        27                          1   \n",
       "5                        27                          1   \n",
       "6                        27                          1   \n",
       "7                        27                          1   \n",
       "8                        27                          1   \n",
       "9                        27                          1   \n",
       "\n",
       "   stays_in_weekend_nights  stays_in_week_nights  adult_count  ...  \\\n",
       "0                        0                     0            2  ...   \n",
       "1                        0                     0            2  ...   \n",
       "2                        0                     1            1  ...   \n",
       "3                        0                     1            1  ...   \n",
       "4                        0                     2            2  ...   \n",
       "5                        0                     2            2  ...   \n",
       "6                        0                     2            2  ...   \n",
       "7                        0                     2            2  ...   \n",
       "8                        0                     3            2  ...   \n",
       "9                        0                     3            2  ...   \n",
       "\n",
       "   deposit_type  agent company days_in_waiting_list customer_type    adr  \\\n",
       "0    No Deposit    NaN     NaN                    0     Transient    0.0   \n",
       "1    No Deposit    NaN     NaN                    0     Transient    0.0   \n",
       "2    No Deposit    NaN     NaN                    0     Transient   75.0   \n",
       "3    No Deposit  304.0     NaN                    0     Transient   75.0   \n",
       "4    No Deposit  240.0     NaN                    0     Transient   98.0   \n",
       "5    No Deposit  240.0     NaN                    0     Transient   98.0   \n",
       "6    No Deposit    NaN     NaN                    0     Transient  107.0   \n",
       "7    No Deposit  303.0     NaN                    0     Transient  103.0   \n",
       "8    No Deposit  240.0     NaN                    0     Transient   82.0   \n",
       "9    No Deposit   15.0     NaN                    0     Transient  105.5   \n",
       "\n",
       "   required_car_parking_spaces  total_of_special_requests  reservation_status  \\\n",
       "0                            0                          0           Check-Out   \n",
       "1                            0                          0           Check-Out   \n",
       "2                            0                          0           Check-Out   \n",
       "3                            0                          0           Check-Out   \n",
       "4                            0                          1           Check-Out   \n",
       "5                            0                          1           Check-Out   \n",
       "6                            0                          0           Check-Out   \n",
       "7                            0                          1           Check-Out   \n",
       "8                            0                          1            Canceled   \n",
       "9                            0                          0            Canceled   \n",
       "\n",
       "  reservation_status_date  \n",
       "0              2015-07-01  \n",
       "1              2015-07-01  \n",
       "2              2015-07-02  \n",
       "3              2015-07-02  \n",
       "4              2015-07-03  \n",
       "5              2015-07-03  \n",
       "6              2015-07-03  \n",
       "7              2015-07-03  \n",
       "8              2015-05-06  \n",
       "9              2015-04-22  \n",
       "\n",
       "[10 rows x 32 columns]"
      ]
     },
     "execution_count": 36,
     "metadata": {},
     "output_type": "execute_result"
    }
   ],
   "source": [
    "hotel_bookings.rename(columns={'adults': 'adult_count', 'children': 'child_count', 'babies': 'baby_count'}, inplace=True)\n",
    "hotel_bookings.head(10)"
   ]
  },
  {
   "cell_type": "code",
   "execution_count": 50,
   "id": "0bd29a52",
   "metadata": {},
   "outputs": [
    {
     "data": {
      "application/vnd.microsoft.datawrangler.viewer.v0+json": {
       "columns": [
        {
         "name": "index",
         "rawType": "object",
         "type": "string"
        },
        {
         "name": "0",
         "rawType": "float64",
         "type": "float"
        }
       ],
       "ref": "95fa1b97-e18e-4b65-8ba2-fe17108cf422",
       "rows": [
        [
         "hotel",
         "0.0"
        ],
        [
         "is_canceled",
         "0.0"
        ],
        [
         "lead_time",
         "0.0"
        ],
        [
         "arrival_date_year",
         "0.0"
        ],
        [
         "arrival_date_month",
         "0.0"
        ],
        [
         "arrival_date_week_number",
         "0.0"
        ],
        [
         "arrival_date_day_of_month",
         "0.0"
        ],
        [
         "stays_in_weekend_nights",
         "0.0"
        ],
        [
         "stays_in_week_nights",
         "0.0"
        ],
        [
         "adult_count",
         "0.0"
        ],
        [
         "child_count",
         "0.0"
        ],
        [
         "baby_count",
         "0.0"
        ],
        [
         "meal",
         "0.0"
        ],
        [
         "country",
         "0.40875814584624665"
        ],
        [
         "market_segment",
         "0.0"
        ],
        [
         "distribution_channel",
         "0.0"
        ],
        [
         "is_repeated_guest",
         "0.0"
        ],
        [
         "previous_cancellations",
         "0.0"
        ],
        [
         "previous_bookings_not_canceled",
         "0.0"
        ],
        [
         "reserved_room_type",
         "0.0"
        ],
        [
         "assigned_room_type",
         "0.0"
        ],
        [
         "booking_changes",
         "0.0"
        ],
        [
         "deposit_type",
         "0.0"
        ],
        [
         "agent",
         "0.0"
        ],
        [
         "days_in_waiting_list",
         "0.0"
        ],
        [
         "customer_type",
         "0.0"
        ],
        [
         "adr",
         "0.0"
        ],
        [
         "required_car_parking_spaces",
         "0.0"
        ],
        [
         "total_of_special_requests",
         "0.0"
        ],
        [
         "reservation_status",
         "0.0"
        ],
        [
         "reservation_status_date",
         "0.0"
        ]
       ],
       "shape": {
        "columns": 1,
        "rows": 31
       }
      },
      "text/plain": [
       "hotel                             0.000000\n",
       "is_canceled                       0.000000\n",
       "lead_time                         0.000000\n",
       "arrival_date_year                 0.000000\n",
       "arrival_date_month                0.000000\n",
       "arrival_date_week_number          0.000000\n",
       "arrival_date_day_of_month         0.000000\n",
       "stays_in_weekend_nights           0.000000\n",
       "stays_in_week_nights              0.000000\n",
       "adult_count                       0.000000\n",
       "child_count                       0.000000\n",
       "baby_count                        0.000000\n",
       "meal                              0.000000\n",
       "country                           0.408758\n",
       "market_segment                    0.000000\n",
       "distribution_channel              0.000000\n",
       "is_repeated_guest                 0.000000\n",
       "previous_cancellations            0.000000\n",
       "previous_bookings_not_canceled    0.000000\n",
       "reserved_room_type                0.000000\n",
       "assigned_room_type                0.000000\n",
       "booking_changes                   0.000000\n",
       "deposit_type                      0.000000\n",
       "agent                             0.000000\n",
       "days_in_waiting_list              0.000000\n",
       "customer_type                     0.000000\n",
       "adr                               0.000000\n",
       "required_car_parking_spaces       0.000000\n",
       "total_of_special_requests         0.000000\n",
       "reservation_status                0.000000\n",
       "reservation_status_date           0.000000\n",
       "dtype: float64"
      ]
     },
     "execution_count": 50,
     "metadata": {},
     "output_type": "execute_result"
    }
   ],
   "source": [
    "#nans\n",
    "hotel_bookings.isnull().sum() * 100 / len(hotel_bookings)"
   ]
  },
  {
   "cell_type": "code",
   "execution_count": null,
   "id": "efaaa385",
   "metadata": {},
   "outputs": [],
   "source": [
    "#check for data types\n",
    "hotel_bookings['agent'].unique()\n",
    "hotel_bookings[hotel_bookings['agent'] == 5]\n",
    "hotel_bookings.fillna({'agent': -1}, inplace=True)\n",
    "hotel_bookings[hotel_bookings['child_count'].isna()]\n",
    "hotel_bookings.dropna(subset=['child_count'], inplace=True)\n"
   ]
  },
  {
   "cell_type": "code",
   "execution_count": 49,
   "id": "bd29bbd0",
   "metadata": {},
   "outputs": [],
   "source": [
    "hotel_bookings.drop(columns = ['company'], inplace=True)"
   ]
  },
  {
   "cell_type": "code",
   "execution_count": 53,
   "id": "3f7a272e",
   "metadata": {},
   "outputs": [
    {
     "data": {
      "application/vnd.microsoft.datawrangler.viewer.v0+json": {
       "columns": [
        {
         "name": "index",
         "rawType": "object",
         "type": "string"
        },
        {
         "name": "0",
         "rawType": "object",
         "type": "unknown"
        }
       ],
       "ref": "5f684e9b-7f66-48a1-8560-15a7770092ea",
       "rows": [
        [
         "hotel",
         "object"
        ],
        [
         "is_canceled",
         "boolean"
        ],
        [
         "lead_time",
         "int64"
        ],
        [
         "arrival_date_year",
         "int64"
        ],
        [
         "arrival_date_month",
         "object"
        ],
        [
         "arrival_date_week_number",
         "int64"
        ],
        [
         "arrival_date_day_of_month",
         "int64"
        ],
        [
         "stays_in_weekend_nights",
         "int64"
        ],
        [
         "stays_in_week_nights",
         "int64"
        ],
        [
         "adult_count",
         "int64"
        ],
        [
         "child_count",
         "int64"
        ],
        [
         "baby_count",
         "int64"
        ],
        [
         "meal",
         "object"
        ],
        [
         "country",
         "object"
        ],
        [
         "market_segment",
         "object"
        ],
        [
         "distribution_channel",
         "object"
        ],
        [
         "is_repeated_guest",
         "boolean"
        ],
        [
         "previous_cancellations",
         "int64"
        ],
        [
         "previous_bookings_not_canceled",
         "int64"
        ],
        [
         "reserved_room_type",
         "object"
        ],
        [
         "assigned_room_type",
         "object"
        ],
        [
         "booking_changes",
         "int64"
        ],
        [
         "deposit_type",
         "object"
        ],
        [
         "agent",
         "float64"
        ],
        [
         "days_in_waiting_list",
         "int64"
        ],
        [
         "customer_type",
         "object"
        ],
        [
         "adr",
         "float64"
        ],
        [
         "required_car_parking_spaces",
         "int64"
        ],
        [
         "total_of_special_requests",
         "int64"
        ],
        [
         "reservation_status",
         "object"
        ],
        [
         "reservation_status_date",
         "object"
        ]
       ],
       "shape": {
        "columns": 1,
        "rows": 31
       }
      },
      "text/plain": [
       "hotel                              object\n",
       "is_canceled                       boolean\n",
       "lead_time                           int64\n",
       "arrival_date_year                   int64\n",
       "arrival_date_month                 object\n",
       "arrival_date_week_number            int64\n",
       "arrival_date_day_of_month           int64\n",
       "stays_in_weekend_nights             int64\n",
       "stays_in_week_nights                int64\n",
       "adult_count                         int64\n",
       "child_count                         int64\n",
       "baby_count                          int64\n",
       "meal                               object\n",
       "country                            object\n",
       "market_segment                     object\n",
       "distribution_channel               object\n",
       "is_repeated_guest                 boolean\n",
       "previous_cancellations              int64\n",
       "previous_bookings_not_canceled      int64\n",
       "reserved_room_type                 object\n",
       "assigned_room_type                 object\n",
       "booking_changes                     int64\n",
       "deposit_type                       object\n",
       "agent                             float64\n",
       "days_in_waiting_list                int64\n",
       "customer_type                      object\n",
       "adr                               float64\n",
       "required_car_parking_spaces         int64\n",
       "total_of_special_requests           int64\n",
       "reservation_status                 object\n",
       "reservation_status_date            object\n",
       "dtype: object"
      ]
     },
     "execution_count": 53,
     "metadata": {},
     "output_type": "execute_result"
    }
   ],
   "source": [
    "#check for column data type\n",
    "hotel_bookings = hotel_bookings.astype({'is_canceled': 'boolean' , 'is_repeated_guest': 'boolean', 'child_count': 'int'})  \n",
    "hotel_bookings.dtypes"
   ]
  },
  {
   "cell_type": "code",
   "execution_count": 56,
   "id": "6defb329",
   "metadata": {},
   "outputs": [
    {
     "data": {
      "application/vnd.microsoft.datawrangler.viewer.v0+json": {
       "columns": [
        {
         "name": "index",
         "rawType": "int64",
         "type": "integer"
        },
        {
         "name": "lead_time",
         "rawType": "int64",
         "type": "integer"
        },
        {
         "name": "lead_time_binned",
         "rawType": "category",
         "type": "unknown"
        }
       ],
       "ref": "c154d744-4321-4c3d-91fe-8bc3397fbcad",
       "rows": [
        [
         "0",
         "342",
         "301-400"
        ],
        [
         "1",
         "737",
         "701-800"
        ],
        [
         "2",
         "7",
         "0-100"
        ],
        [
         "3",
         "13",
         "0-100"
        ],
        [
         "4",
         "14",
         "0-100"
        ],
        [
         "5",
         "14",
         "0-100"
        ],
        [
         "6",
         "0",
         null
        ],
        [
         "7",
         "9",
         "0-100"
        ],
        [
         "8",
         "85",
         "0-100"
        ],
        [
         "9",
         "75",
         "0-100"
        ],
        [
         "10",
         "23",
         "0-100"
        ],
        [
         "11",
         "35",
         "0-100"
        ],
        [
         "12",
         "68",
         "0-100"
        ],
        [
         "13",
         "18",
         "0-100"
        ],
        [
         "14",
         "37",
         "0-100"
        ],
        [
         "15",
         "68",
         "0-100"
        ],
        [
         "16",
         "37",
         "0-100"
        ],
        [
         "17",
         "12",
         "0-100"
        ],
        [
         "18",
         "0",
         null
        ],
        [
         "19",
         "7",
         "0-100"
        ],
        [
         "20",
         "37",
         "0-100"
        ],
        [
         "21",
         "72",
         "0-100"
        ],
        [
         "22",
         "72",
         "0-100"
        ],
        [
         "23",
         "72",
         "0-100"
        ],
        [
         "24",
         "127",
         "101-200"
        ],
        [
         "25",
         "78",
         "0-100"
        ],
        [
         "26",
         "48",
         "0-100"
        ],
        [
         "27",
         "60",
         "0-100"
        ],
        [
         "28",
         "77",
         "0-100"
        ],
        [
         "29",
         "99",
         "0-100"
        ],
        [
         "30",
         "118",
         "101-200"
        ],
        [
         "31",
         "95",
         "0-100"
        ],
        [
         "32",
         "96",
         "0-100"
        ],
        [
         "33",
         "69",
         "0-100"
        ],
        [
         "34",
         "45",
         "0-100"
        ],
        [
         "35",
         "40",
         "0-100"
        ],
        [
         "36",
         "15",
         "0-100"
        ],
        [
         "37",
         "36",
         "0-100"
        ],
        [
         "38",
         "43",
         "0-100"
        ],
        [
         "39",
         "70",
         "0-100"
        ],
        [
         "40",
         "45",
         "0-100"
        ],
        [
         "41",
         "45",
         "0-100"
        ],
        [
         "42",
         "16",
         "0-100"
        ],
        [
         "43",
         "70",
         "0-100"
        ],
        [
         "44",
         "107",
         "101-200"
        ],
        [
         "45",
         "47",
         "0-100"
        ],
        [
         "46",
         "96",
         "0-100"
        ],
        [
         "47",
         "113",
         "101-200"
        ],
        [
         "48",
         "90",
         "0-100"
        ],
        [
         "49",
         "50",
         "0-100"
        ]
       ],
       "shape": {
        "columns": 2,
        "rows": 119386
       }
      },
      "text/html": [
       "<div>\n",
       "<style scoped>\n",
       "    .dataframe tbody tr th:only-of-type {\n",
       "        vertical-align: middle;\n",
       "    }\n",
       "\n",
       "    .dataframe tbody tr th {\n",
       "        vertical-align: top;\n",
       "    }\n",
       "\n",
       "    .dataframe thead th {\n",
       "        text-align: right;\n",
       "    }\n",
       "</style>\n",
       "<table border=\"1\" class=\"dataframe\">\n",
       "  <thead>\n",
       "    <tr style=\"text-align: right;\">\n",
       "      <th></th>\n",
       "      <th>lead_time</th>\n",
       "      <th>lead_time_binned</th>\n",
       "    </tr>\n",
       "  </thead>\n",
       "  <tbody>\n",
       "    <tr>\n",
       "      <th>0</th>\n",
       "      <td>342</td>\n",
       "      <td>301-400</td>\n",
       "    </tr>\n",
       "    <tr>\n",
       "      <th>1</th>\n",
       "      <td>737</td>\n",
       "      <td>701-800</td>\n",
       "    </tr>\n",
       "    <tr>\n",
       "      <th>2</th>\n",
       "      <td>7</td>\n",
       "      <td>0-100</td>\n",
       "    </tr>\n",
       "    <tr>\n",
       "      <th>3</th>\n",
       "      <td>13</td>\n",
       "      <td>0-100</td>\n",
       "    </tr>\n",
       "    <tr>\n",
       "      <th>4</th>\n",
       "      <td>14</td>\n",
       "      <td>0-100</td>\n",
       "    </tr>\n",
       "    <tr>\n",
       "      <th>...</th>\n",
       "      <td>...</td>\n",
       "      <td>...</td>\n",
       "    </tr>\n",
       "    <tr>\n",
       "      <th>119385</th>\n",
       "      <td>23</td>\n",
       "      <td>0-100</td>\n",
       "    </tr>\n",
       "    <tr>\n",
       "      <th>119386</th>\n",
       "      <td>102</td>\n",
       "      <td>101-200</td>\n",
       "    </tr>\n",
       "    <tr>\n",
       "      <th>119387</th>\n",
       "      <td>34</td>\n",
       "      <td>0-100</td>\n",
       "    </tr>\n",
       "    <tr>\n",
       "      <th>119388</th>\n",
       "      <td>109</td>\n",
       "      <td>101-200</td>\n",
       "    </tr>\n",
       "    <tr>\n",
       "      <th>119389</th>\n",
       "      <td>205</td>\n",
       "      <td>201-300</td>\n",
       "    </tr>\n",
       "  </tbody>\n",
       "</table>\n",
       "<p>119386 rows × 2 columns</p>\n",
       "</div>"
      ],
      "text/plain": [
       "        lead_time lead_time_binned\n",
       "0             342          301-400\n",
       "1             737          701-800\n",
       "2               7            0-100\n",
       "3              13            0-100\n",
       "4              14            0-100\n",
       "...           ...              ...\n",
       "119385         23            0-100\n",
       "119386        102          101-200\n",
       "119387         34            0-100\n",
       "119388        109          101-200\n",
       "119389        205          201-300\n",
       "\n",
       "[119386 rows x 2 columns]"
      ]
     },
     "execution_count": 56,
     "metadata": {},
     "output_type": "execute_result"
    }
   ],
   "source": [
    "#bin columns \n",
    "hotel_bookings['lead_time'].unique()\n",
    "hotel_bookings['lead_time'].describe()\n",
    "\n",
    "bins = [0, 100, 200, 300, 400, 500, 600, 700, 800]\n",
    "labels = ['0-100', '101-200', '201-300', '301-400', '401-500', '501-600', '601-700', '701-800']\n",
    "\n",
    "hotel_bookings['lead_time_binned'] = pd.cut(hotel_bookings['lead_time'], bins=bins, labels=labels)\n",
    "\n",
    "hotel_bookings[['lead_time', 'lead_time_binned']]"
   ]
  },
  {
   "cell_type": "code",
   "execution_count": 57,
   "id": "dd993936",
   "metadata": {},
   "outputs": [
    {
     "data": {
      "application/vnd.microsoft.datawrangler.viewer.v0+json": {
       "columns": [
        {
         "name": "index",
         "rawType": "int64",
         "type": "integer"
        },
        {
         "name": "hotel",
         "rawType": "object",
         "type": "string"
        },
        {
         "name": "is_canceled",
         "rawType": "boolean",
         "type": "boolean"
        },
        {
         "name": "lead_time",
         "rawType": "int64",
         "type": "integer"
        },
        {
         "name": "arrival_date_year",
         "rawType": "int64",
         "type": "integer"
        },
        {
         "name": "arrival_date_month",
         "rawType": "object",
         "type": "string"
        },
        {
         "name": "arrival_date_week_number",
         "rawType": "int64",
         "type": "integer"
        },
        {
         "name": "arrival_date_day_of_month",
         "rawType": "int64",
         "type": "integer"
        },
        {
         "name": "stays_in_weekend_nights",
         "rawType": "int64",
         "type": "integer"
        },
        {
         "name": "stays_in_week_nights",
         "rawType": "int64",
         "type": "integer"
        },
        {
         "name": "adult_count",
         "rawType": "int64",
         "type": "integer"
        },
        {
         "name": "child_count",
         "rawType": "int64",
         "type": "integer"
        },
        {
         "name": "baby_count",
         "rawType": "int64",
         "type": "integer"
        },
        {
         "name": "meal",
         "rawType": "object",
         "type": "string"
        },
        {
         "name": "country",
         "rawType": "object",
         "type": "string"
        },
        {
         "name": "market_segment",
         "rawType": "object",
         "type": "string"
        },
        {
         "name": "distribution_channel",
         "rawType": "object",
         "type": "string"
        },
        {
         "name": "is_repeated_guest",
         "rawType": "boolean",
         "type": "boolean"
        },
        {
         "name": "previous_cancellations",
         "rawType": "int64",
         "type": "integer"
        },
        {
         "name": "previous_bookings_not_canceled",
         "rawType": "int64",
         "type": "integer"
        },
        {
         "name": "reserved_room_type",
         "rawType": "object",
         "type": "string"
        },
        {
         "name": "assigned_room_type",
         "rawType": "object",
         "type": "string"
        },
        {
         "name": "booking_changes",
         "rawType": "int64",
         "type": "integer"
        },
        {
         "name": "deposit_type",
         "rawType": "object",
         "type": "string"
        },
        {
         "name": "agent",
         "rawType": "float64",
         "type": "float"
        },
        {
         "name": "days_in_waiting_list",
         "rawType": "int64",
         "type": "integer"
        },
        {
         "name": "customer_type",
         "rawType": "object",
         "type": "string"
        },
        {
         "name": "adr",
         "rawType": "float64",
         "type": "float"
        },
        {
         "name": "required_car_parking_spaces",
         "rawType": "int64",
         "type": "integer"
        },
        {
         "name": "total_of_special_requests",
         "rawType": "int64",
         "type": "integer"
        },
        {
         "name": "reservation_status",
         "rawType": "object",
         "type": "string"
        },
        {
         "name": "reservation_status_date",
         "rawType": "object",
         "type": "string"
        },
        {
         "name": "lead_time_bin",
         "rawType": "category",
         "type": "unknown"
        },
        {
         "name": "lead_time_binned",
         "rawType": "category",
         "type": "unknown"
        }
       ],
       "ref": "4890122e-dfbf-4534-9f3e-6d899fd6cc71",
       "rows": [
        [
         "0",
         "Resort Hotel",
         "False",
         "342",
         "2015",
         "July",
         "27",
         "1",
         "0",
         "0",
         "2",
         "0",
         "0",
         "BB",
         "PRT",
         "Direct",
         "Direct",
         "False",
         "0",
         "0",
         "C",
         "C",
         "3",
         "No Deposit",
         "-1.0",
         "0",
         "Transient",
         "0.0",
         "0",
         "0",
         "Check-Out",
         "2015-07-01",
         "181-365",
         "301-400"
        ],
        [
         "1",
         "Resort Hotel",
         "False",
         "737",
         "2015",
         "July",
         "27",
         "1",
         "0",
         "0",
         "2",
         "0",
         "0",
         "BB",
         "PRT",
         "Direct",
         "Direct",
         "False",
         "0",
         "0",
         "C",
         "C",
         "4",
         "No Deposit",
         "-1.0",
         "0",
         "Transient",
         "0.0",
         "0",
         "0",
         "Check-Out",
         "2015-07-01",
         null,
         "701-800"
        ],
        [
         "2",
         "Resort Hotel",
         "False",
         "7",
         "2015",
         "July",
         "27",
         "1",
         "0",
         "1",
         "1",
         "0",
         "0",
         "BB",
         "GBR",
         "Direct",
         "Direct",
         "False",
         "0",
         "0",
         "A",
         "C",
         "0",
         "No Deposit",
         "-1.0",
         "0",
         "Transient",
         "75.0",
         "0",
         "0",
         "Check-Out",
         "2015-07-02",
         "0-30",
         "0-100"
        ],
        [
         "3",
         "Resort Hotel",
         "False",
         "13",
         "2015",
         "July",
         "27",
         "1",
         "0",
         "1",
         "1",
         "0",
         "0",
         "BB",
         "GBR",
         "Corporate",
         "Corporate",
         "False",
         "0",
         "0",
         "A",
         "A",
         "0",
         "No Deposit",
         "304.0",
         "0",
         "Transient",
         "75.0",
         "0",
         "0",
         "Check-Out",
         "2015-07-02",
         "0-30",
         "0-100"
        ],
        [
         "4",
         "Resort Hotel",
         "False",
         "14",
         "2015",
         "July",
         "27",
         "1",
         "0",
         "2",
         "2",
         "0",
         "0",
         "BB",
         "GBR",
         "Online TA",
         "TA/TO",
         "False",
         "0",
         "0",
         "A",
         "A",
         "0",
         "No Deposit",
         "240.0",
         "0",
         "Transient",
         "98.0",
         "0",
         "1",
         "Check-Out",
         "2015-07-03",
         "0-30",
         "0-100"
        ]
       ],
       "shape": {
        "columns": 33,
        "rows": 5
       }
      },
      "text/html": [
       "<div>\n",
       "<style scoped>\n",
       "    .dataframe tbody tr th:only-of-type {\n",
       "        vertical-align: middle;\n",
       "    }\n",
       "\n",
       "    .dataframe tbody tr th {\n",
       "        vertical-align: top;\n",
       "    }\n",
       "\n",
       "    .dataframe thead th {\n",
       "        text-align: right;\n",
       "    }\n",
       "</style>\n",
       "<table border=\"1\" class=\"dataframe\">\n",
       "  <thead>\n",
       "    <tr style=\"text-align: right;\">\n",
       "      <th></th>\n",
       "      <th>hotel</th>\n",
       "      <th>is_canceled</th>\n",
       "      <th>lead_time</th>\n",
       "      <th>arrival_date_year</th>\n",
       "      <th>arrival_date_month</th>\n",
       "      <th>arrival_date_week_number</th>\n",
       "      <th>arrival_date_day_of_month</th>\n",
       "      <th>stays_in_weekend_nights</th>\n",
       "      <th>stays_in_week_nights</th>\n",
       "      <th>adult_count</th>\n",
       "      <th>...</th>\n",
       "      <th>agent</th>\n",
       "      <th>days_in_waiting_list</th>\n",
       "      <th>customer_type</th>\n",
       "      <th>adr</th>\n",
       "      <th>required_car_parking_spaces</th>\n",
       "      <th>total_of_special_requests</th>\n",
       "      <th>reservation_status</th>\n",
       "      <th>reservation_status_date</th>\n",
       "      <th>lead_time_bin</th>\n",
       "      <th>lead_time_binned</th>\n",
       "    </tr>\n",
       "  </thead>\n",
       "  <tbody>\n",
       "    <tr>\n",
       "      <th>0</th>\n",
       "      <td>Resort Hotel</td>\n",
       "      <td>False</td>\n",
       "      <td>342</td>\n",
       "      <td>2015</td>\n",
       "      <td>July</td>\n",
       "      <td>27</td>\n",
       "      <td>1</td>\n",
       "      <td>0</td>\n",
       "      <td>0</td>\n",
       "      <td>2</td>\n",
       "      <td>...</td>\n",
       "      <td>-1.0</td>\n",
       "      <td>0</td>\n",
       "      <td>Transient</td>\n",
       "      <td>0.0</td>\n",
       "      <td>0</td>\n",
       "      <td>0</td>\n",
       "      <td>Check-Out</td>\n",
       "      <td>2015-07-01</td>\n",
       "      <td>181-365</td>\n",
       "      <td>301-400</td>\n",
       "    </tr>\n",
       "    <tr>\n",
       "      <th>1</th>\n",
       "      <td>Resort Hotel</td>\n",
       "      <td>False</td>\n",
       "      <td>737</td>\n",
       "      <td>2015</td>\n",
       "      <td>July</td>\n",
       "      <td>27</td>\n",
       "      <td>1</td>\n",
       "      <td>0</td>\n",
       "      <td>0</td>\n",
       "      <td>2</td>\n",
       "      <td>...</td>\n",
       "      <td>-1.0</td>\n",
       "      <td>0</td>\n",
       "      <td>Transient</td>\n",
       "      <td>0.0</td>\n",
       "      <td>0</td>\n",
       "      <td>0</td>\n",
       "      <td>Check-Out</td>\n",
       "      <td>2015-07-01</td>\n",
       "      <td>NaN</td>\n",
       "      <td>701-800</td>\n",
       "    </tr>\n",
       "    <tr>\n",
       "      <th>2</th>\n",
       "      <td>Resort Hotel</td>\n",
       "      <td>False</td>\n",
       "      <td>7</td>\n",
       "      <td>2015</td>\n",
       "      <td>July</td>\n",
       "      <td>27</td>\n",
       "      <td>1</td>\n",
       "      <td>0</td>\n",
       "      <td>1</td>\n",
       "      <td>1</td>\n",
       "      <td>...</td>\n",
       "      <td>-1.0</td>\n",
       "      <td>0</td>\n",
       "      <td>Transient</td>\n",
       "      <td>75.0</td>\n",
       "      <td>0</td>\n",
       "      <td>0</td>\n",
       "      <td>Check-Out</td>\n",
       "      <td>2015-07-02</td>\n",
       "      <td>0-30</td>\n",
       "      <td>0-100</td>\n",
       "    </tr>\n",
       "    <tr>\n",
       "      <th>3</th>\n",
       "      <td>Resort Hotel</td>\n",
       "      <td>False</td>\n",
       "      <td>13</td>\n",
       "      <td>2015</td>\n",
       "      <td>July</td>\n",
       "      <td>27</td>\n",
       "      <td>1</td>\n",
       "      <td>0</td>\n",
       "      <td>1</td>\n",
       "      <td>1</td>\n",
       "      <td>...</td>\n",
       "      <td>304.0</td>\n",
       "      <td>0</td>\n",
       "      <td>Transient</td>\n",
       "      <td>75.0</td>\n",
       "      <td>0</td>\n",
       "      <td>0</td>\n",
       "      <td>Check-Out</td>\n",
       "      <td>2015-07-02</td>\n",
       "      <td>0-30</td>\n",
       "      <td>0-100</td>\n",
       "    </tr>\n",
       "    <tr>\n",
       "      <th>4</th>\n",
       "      <td>Resort Hotel</td>\n",
       "      <td>False</td>\n",
       "      <td>14</td>\n",
       "      <td>2015</td>\n",
       "      <td>July</td>\n",
       "      <td>27</td>\n",
       "      <td>1</td>\n",
       "      <td>0</td>\n",
       "      <td>2</td>\n",
       "      <td>2</td>\n",
       "      <td>...</td>\n",
       "      <td>240.0</td>\n",
       "      <td>0</td>\n",
       "      <td>Transient</td>\n",
       "      <td>98.0</td>\n",
       "      <td>0</td>\n",
       "      <td>1</td>\n",
       "      <td>Check-Out</td>\n",
       "      <td>2015-07-03</td>\n",
       "      <td>0-30</td>\n",
       "      <td>0-100</td>\n",
       "    </tr>\n",
       "  </tbody>\n",
       "</table>\n",
       "<p>5 rows × 33 columns</p>\n",
       "</div>"
      ],
      "text/plain": [
       "          hotel  is_canceled  lead_time  arrival_date_year arrival_date_month  \\\n",
       "0  Resort Hotel        False        342               2015               July   \n",
       "1  Resort Hotel        False        737               2015               July   \n",
       "2  Resort Hotel        False          7               2015               July   \n",
       "3  Resort Hotel        False         13               2015               July   \n",
       "4  Resort Hotel        False         14               2015               July   \n",
       "\n",
       "   arrival_date_week_number  arrival_date_day_of_month  \\\n",
       "0                        27                          1   \n",
       "1                        27                          1   \n",
       "2                        27                          1   \n",
       "3                        27                          1   \n",
       "4                        27                          1   \n",
       "\n",
       "   stays_in_weekend_nights  stays_in_week_nights  adult_count  ...  agent  \\\n",
       "0                        0                     0            2  ...   -1.0   \n",
       "1                        0                     0            2  ...   -1.0   \n",
       "2                        0                     1            1  ...   -1.0   \n",
       "3                        0                     1            1  ...  304.0   \n",
       "4                        0                     2            2  ...  240.0   \n",
       "\n",
       "   days_in_waiting_list customer_type   adr required_car_parking_spaces  \\\n",
       "0                     0     Transient   0.0                           0   \n",
       "1                     0     Transient   0.0                           0   \n",
       "2                     0     Transient  75.0                           0   \n",
       "3                     0     Transient  75.0                           0   \n",
       "4                     0     Transient  98.0                           0   \n",
       "\n",
       "  total_of_special_requests  reservation_status  reservation_status_date  \\\n",
       "0                         0           Check-Out               2015-07-01   \n",
       "1                         0           Check-Out               2015-07-01   \n",
       "2                         0           Check-Out               2015-07-02   \n",
       "3                         0           Check-Out               2015-07-02   \n",
       "4                         1           Check-Out               2015-07-03   \n",
       "\n",
       "   lead_time_bin lead_time_binned  \n",
       "0        181-365          301-400  \n",
       "1            NaN          701-800  \n",
       "2           0-30            0-100  \n",
       "3           0-30            0-100  \n",
       "4           0-30            0-100  \n",
       "\n",
       "[5 rows x 33 columns]"
      ]
     },
     "execution_count": 57,
     "metadata": {},
     "output_type": "execute_result"
    }
   ],
   "source": [
    "hotel_bookings.head()"
   ]
  },
  {
   "cell_type": "code",
   "execution_count": 62,
   "id": "d2307cac",
   "metadata": {},
   "outputs": [
    {
     "data": {
      "application/vnd.microsoft.datawrangler.viewer.v0+json": {
       "columns": [
        {
         "name": "index",
         "rawType": "int64",
         "type": "integer"
        },
        {
         "name": "hotel",
         "rawType": "object",
         "type": "string"
        },
        {
         "name": "is_canceled",
         "rawType": "boolean",
         "type": "boolean"
        },
        {
         "name": "lead_time",
         "rawType": "int64",
         "type": "integer"
        },
        {
         "name": "arrival_date_month",
         "rawType": "object",
         "type": "string"
        },
        {
         "name": "arrival_date_week_number",
         "rawType": "int64",
         "type": "integer"
        },
        {
         "name": "arrival_date_year",
         "rawType": "int64",
         "type": "integer"
        },
        {
         "name": "arrival_date_day_of_month",
         "rawType": "int64",
         "type": "integer"
        },
        {
         "name": "stays_in_weekend_nights",
         "rawType": "int64",
         "type": "integer"
        },
        {
         "name": "stays_in_week_nights",
         "rawType": "int64",
         "type": "integer"
        },
        {
         "name": "adult_count",
         "rawType": "int64",
         "type": "integer"
        },
        {
         "name": "child_count",
         "rawType": "int64",
         "type": "integer"
        },
        {
         "name": "baby_count",
         "rawType": "int64",
         "type": "integer"
        },
        {
         "name": "meal",
         "rawType": "object",
         "type": "string"
        },
        {
         "name": "country",
         "rawType": "object",
         "type": "string"
        },
        {
         "name": "market_segment",
         "rawType": "object",
         "type": "string"
        },
        {
         "name": "distribution_channel",
         "rawType": "object",
         "type": "string"
        },
        {
         "name": "is_repeated_guest",
         "rawType": "boolean",
         "type": "boolean"
        },
        {
         "name": "previous_cancellations",
         "rawType": "int64",
         "type": "integer"
        },
        {
         "name": "previous_bookings_not_canceled",
         "rawType": "int64",
         "type": "integer"
        },
        {
         "name": "reserved_room_type",
         "rawType": "object",
         "type": "string"
        },
        {
         "name": "assigned_room_type",
         "rawType": "object",
         "type": "string"
        },
        {
         "name": "booking_changes",
         "rawType": "int64",
         "type": "integer"
        },
        {
         "name": "deposit_type",
         "rawType": "object",
         "type": "string"
        },
        {
         "name": "agent",
         "rawType": "float64",
         "type": "float"
        },
        {
         "name": "days_in_waiting_list",
         "rawType": "int64",
         "type": "integer"
        },
        {
         "name": "customer_type",
         "rawType": "object",
         "type": "string"
        },
        {
         "name": "adr",
         "rawType": "float64",
         "type": "float"
        },
        {
         "name": "required_car_parking_spaces",
         "rawType": "int64",
         "type": "integer"
        },
        {
         "name": "total_of_special_requests",
         "rawType": "int64",
         "type": "integer"
        },
        {
         "name": "reservation_status",
         "rawType": "object",
         "type": "string"
        },
        {
         "name": "reservation_status_date",
         "rawType": "object",
         "type": "string"
        },
        {
         "name": "lead_time_bin",
         "rawType": "category",
         "type": "unknown"
        },
        {
         "name": "lead_time_binned",
         "rawType": "category",
         "type": "unknown"
        }
       ],
       "ref": "77a963de-2bf3-4d3b-9020-461d2093dcf9",
       "rows": [
        [
         "0",
         "Resort Hotel",
         "False",
         "342",
         "July",
         "27",
         "2015",
         "1",
         "0",
         "0",
         "2",
         "0",
         "0",
         "BB",
         "PRT",
         "Direct",
         "Direct",
         "False",
         "0",
         "0",
         "C",
         "C",
         "3",
         "No Deposit",
         "-1.0",
         "0",
         "Transient",
         "0.0",
         "0",
         "0",
         "Check-Out",
         "2015-07-01",
         "181-365",
         "301-400"
        ],
        [
         "1",
         "Resort Hotel",
         "False",
         "737",
         "July",
         "27",
         "2015",
         "1",
         "0",
         "0",
         "2",
         "0",
         "0",
         "BB",
         "PRT",
         "Direct",
         "Direct",
         "False",
         "0",
         "0",
         "C",
         "C",
         "4",
         "No Deposit",
         "-1.0",
         "0",
         "Transient",
         "0.0",
         "0",
         "0",
         "Check-Out",
         "2015-07-01",
         null,
         "701-800"
        ],
        [
         "2",
         "Resort Hotel",
         "False",
         "7",
         "July",
         "27",
         "2015",
         "1",
         "0",
         "1",
         "1",
         "0",
         "0",
         "BB",
         "GBR",
         "Direct",
         "Direct",
         "False",
         "0",
         "0",
         "A",
         "C",
         "0",
         "No Deposit",
         "-1.0",
         "0",
         "Transient",
         "75.0",
         "0",
         "0",
         "Check-Out",
         "2015-07-02",
         "0-30",
         "0-100"
        ],
        [
         "3",
         "Resort Hotel",
         "False",
         "13",
         "July",
         "27",
         "2015",
         "1",
         "0",
         "1",
         "1",
         "0",
         "0",
         "BB",
         "GBR",
         "Corporate",
         "Corporate",
         "False",
         "0",
         "0",
         "A",
         "A",
         "0",
         "No Deposit",
         "304.0",
         "0",
         "Transient",
         "75.0",
         "0",
         "0",
         "Check-Out",
         "2015-07-02",
         "0-30",
         "0-100"
        ],
        [
         "4",
         "Resort Hotel",
         "False",
         "14",
         "July",
         "27",
         "2015",
         "1",
         "0",
         "2",
         "2",
         "0",
         "0",
         "BB",
         "GBR",
         "Online TA",
         "TA/TO",
         "False",
         "0",
         "0",
         "A",
         "A",
         "0",
         "No Deposit",
         "240.0",
         "0",
         "Transient",
         "98.0",
         "0",
         "1",
         "Check-Out",
         "2015-07-03",
         "0-30",
         "0-100"
        ]
       ],
       "shape": {
        "columns": 33,
        "rows": 5
       }
      },
      "text/html": [
       "<div>\n",
       "<style scoped>\n",
       "    .dataframe tbody tr th:only-of-type {\n",
       "        vertical-align: middle;\n",
       "    }\n",
       "\n",
       "    .dataframe tbody tr th {\n",
       "        vertical-align: top;\n",
       "    }\n",
       "\n",
       "    .dataframe thead th {\n",
       "        text-align: right;\n",
       "    }\n",
       "</style>\n",
       "<table border=\"1\" class=\"dataframe\">\n",
       "  <thead>\n",
       "    <tr style=\"text-align: right;\">\n",
       "      <th></th>\n",
       "      <th>hotel</th>\n",
       "      <th>is_canceled</th>\n",
       "      <th>lead_time</th>\n",
       "      <th>arrival_date_month</th>\n",
       "      <th>arrival_date_week_number</th>\n",
       "      <th>arrival_date_year</th>\n",
       "      <th>arrival_date_day_of_month</th>\n",
       "      <th>stays_in_weekend_nights</th>\n",
       "      <th>stays_in_week_nights</th>\n",
       "      <th>adult_count</th>\n",
       "      <th>...</th>\n",
       "      <th>agent</th>\n",
       "      <th>days_in_waiting_list</th>\n",
       "      <th>customer_type</th>\n",
       "      <th>adr</th>\n",
       "      <th>required_car_parking_spaces</th>\n",
       "      <th>total_of_special_requests</th>\n",
       "      <th>reservation_status</th>\n",
       "      <th>reservation_status_date</th>\n",
       "      <th>lead_time_bin</th>\n",
       "      <th>lead_time_binned</th>\n",
       "    </tr>\n",
       "  </thead>\n",
       "  <tbody>\n",
       "    <tr>\n",
       "      <th>0</th>\n",
       "      <td>Resort Hotel</td>\n",
       "      <td>False</td>\n",
       "      <td>342</td>\n",
       "      <td>July</td>\n",
       "      <td>27</td>\n",
       "      <td>2015</td>\n",
       "      <td>1</td>\n",
       "      <td>0</td>\n",
       "      <td>0</td>\n",
       "      <td>2</td>\n",
       "      <td>...</td>\n",
       "      <td>-1.0</td>\n",
       "      <td>0</td>\n",
       "      <td>Transient</td>\n",
       "      <td>0.0</td>\n",
       "      <td>0</td>\n",
       "      <td>0</td>\n",
       "      <td>Check-Out</td>\n",
       "      <td>2015-07-01</td>\n",
       "      <td>181-365</td>\n",
       "      <td>301-400</td>\n",
       "    </tr>\n",
       "    <tr>\n",
       "      <th>1</th>\n",
       "      <td>Resort Hotel</td>\n",
       "      <td>False</td>\n",
       "      <td>737</td>\n",
       "      <td>July</td>\n",
       "      <td>27</td>\n",
       "      <td>2015</td>\n",
       "      <td>1</td>\n",
       "      <td>0</td>\n",
       "      <td>0</td>\n",
       "      <td>2</td>\n",
       "      <td>...</td>\n",
       "      <td>-1.0</td>\n",
       "      <td>0</td>\n",
       "      <td>Transient</td>\n",
       "      <td>0.0</td>\n",
       "      <td>0</td>\n",
       "      <td>0</td>\n",
       "      <td>Check-Out</td>\n",
       "      <td>2015-07-01</td>\n",
       "      <td>NaN</td>\n",
       "      <td>701-800</td>\n",
       "    </tr>\n",
       "    <tr>\n",
       "      <th>2</th>\n",
       "      <td>Resort Hotel</td>\n",
       "      <td>False</td>\n",
       "      <td>7</td>\n",
       "      <td>July</td>\n",
       "      <td>27</td>\n",
       "      <td>2015</td>\n",
       "      <td>1</td>\n",
       "      <td>0</td>\n",
       "      <td>1</td>\n",
       "      <td>1</td>\n",
       "      <td>...</td>\n",
       "      <td>-1.0</td>\n",
       "      <td>0</td>\n",
       "      <td>Transient</td>\n",
       "      <td>75.0</td>\n",
       "      <td>0</td>\n",
       "      <td>0</td>\n",
       "      <td>Check-Out</td>\n",
       "      <td>2015-07-02</td>\n",
       "      <td>0-30</td>\n",
       "      <td>0-100</td>\n",
       "    </tr>\n",
       "    <tr>\n",
       "      <th>3</th>\n",
       "      <td>Resort Hotel</td>\n",
       "      <td>False</td>\n",
       "      <td>13</td>\n",
       "      <td>July</td>\n",
       "      <td>27</td>\n",
       "      <td>2015</td>\n",
       "      <td>1</td>\n",
       "      <td>0</td>\n",
       "      <td>1</td>\n",
       "      <td>1</td>\n",
       "      <td>...</td>\n",
       "      <td>304.0</td>\n",
       "      <td>0</td>\n",
       "      <td>Transient</td>\n",
       "      <td>75.0</td>\n",
       "      <td>0</td>\n",
       "      <td>0</td>\n",
       "      <td>Check-Out</td>\n",
       "      <td>2015-07-02</td>\n",
       "      <td>0-30</td>\n",
       "      <td>0-100</td>\n",
       "    </tr>\n",
       "    <tr>\n",
       "      <th>4</th>\n",
       "      <td>Resort Hotel</td>\n",
       "      <td>False</td>\n",
       "      <td>14</td>\n",
       "      <td>July</td>\n",
       "      <td>27</td>\n",
       "      <td>2015</td>\n",
       "      <td>1</td>\n",
       "      <td>0</td>\n",
       "      <td>2</td>\n",
       "      <td>2</td>\n",
       "      <td>...</td>\n",
       "      <td>240.0</td>\n",
       "      <td>0</td>\n",
       "      <td>Transient</td>\n",
       "      <td>98.0</td>\n",
       "      <td>0</td>\n",
       "      <td>1</td>\n",
       "      <td>Check-Out</td>\n",
       "      <td>2015-07-03</td>\n",
       "      <td>0-30</td>\n",
       "      <td>0-100</td>\n",
       "    </tr>\n",
       "  </tbody>\n",
       "</table>\n",
       "<p>5 rows × 33 columns</p>\n",
       "</div>"
      ],
      "text/plain": [
       "          hotel  is_canceled  lead_time arrival_date_month  \\\n",
       "0  Resort Hotel        False        342               July   \n",
       "1  Resort Hotel        False        737               July   \n",
       "2  Resort Hotel        False          7               July   \n",
       "3  Resort Hotel        False         13               July   \n",
       "4  Resort Hotel        False         14               July   \n",
       "\n",
       "   arrival_date_week_number  arrival_date_year  arrival_date_day_of_month  \\\n",
       "0                        27               2015                          1   \n",
       "1                        27               2015                          1   \n",
       "2                        27               2015                          1   \n",
       "3                        27               2015                          1   \n",
       "4                        27               2015                          1   \n",
       "\n",
       "   stays_in_weekend_nights  stays_in_week_nights  adult_count  ...  agent  \\\n",
       "0                        0                     0            2  ...   -1.0   \n",
       "1                        0                     0            2  ...   -1.0   \n",
       "2                        0                     1            1  ...   -1.0   \n",
       "3                        0                     1            1  ...  304.0   \n",
       "4                        0                     2            2  ...  240.0   \n",
       "\n",
       "   days_in_waiting_list customer_type   adr required_car_parking_spaces  \\\n",
       "0                     0     Transient   0.0                           0   \n",
       "1                     0     Transient   0.0                           0   \n",
       "2                     0     Transient  75.0                           0   \n",
       "3                     0     Transient  75.0                           0   \n",
       "4                     0     Transient  98.0                           0   \n",
       "\n",
       "  total_of_special_requests  reservation_status  reservation_status_date  \\\n",
       "0                         0           Check-Out               2015-07-01   \n",
       "1                         0           Check-Out               2015-07-01   \n",
       "2                         0           Check-Out               2015-07-02   \n",
       "3                         0           Check-Out               2015-07-02   \n",
       "4                         1           Check-Out               2015-07-03   \n",
       "\n",
       "   lead_time_bin lead_time_binned  \n",
       "0        181-365          301-400  \n",
       "1            NaN          701-800  \n",
       "2           0-30            0-100  \n",
       "3           0-30            0-100  \n",
       "4           0-30            0-100  \n",
       "\n",
       "[5 rows x 33 columns]"
      ]
     },
     "execution_count": 62,
     "metadata": {},
     "output_type": "execute_result"
    }
   ],
   "source": [
    "#string columns\n",
    "if 'arrival_date' in hotel_bookings.columns:\n",
    "    hotel_bookings['arrival_date_month'] = hotel_bookings['arrival_date'].str.split('-', expand=True)[0]\n",
    "    hotel_bookings['arrival_date_year'] = hotel_bookings['arrival_date'].str.split('-', expand=True)[1]\n",
    "hotel_bookings.head()\n",
    "\n",
    "\n",
    "column_to_move = hotel_bookings.pop('arrival_date_year')\n",
    "hotel_bookings.insert(5, 'arrival_date_year', column_to_move)\n",
    "hotel_bookings.head()"
   ]
  },
  {
   "cell_type": "code",
   "execution_count": 63,
   "id": "ebed9f01",
   "metadata": {},
   "outputs": [
    {
     "data": {
      "text/plain": [
       "array(['Resort Hotel', 'City Hotel'], dtype=object)"
      ]
     },
     "execution_count": 63,
     "metadata": {},
     "output_type": "execute_result"
    }
   ],
   "source": [
    "#string cleaning\n",
    "hotel_bookings['hotel'] = hotel_bookings['hotel'].replace(r'[\\*\\n\\^]', '', regex=True)\n",
    "hotel_bookings['hotel'].unique()"
   ]
  },
  {
   "cell_type": "code",
   "execution_count": 66,
   "id": "f5f06026",
   "metadata": {},
   "outputs": [],
   "source": [
    "#remove duplicates\n",
    "hotel_bookings.loc[hotel_bookings.duplicated(keep=False)]\n",
    "hotel_bookings.drop_duplicates(keep='first', inplace=True)\n",
    "    "
   ]
  },
  {
   "cell_type": "code",
   "execution_count": 68,
   "id": "c8a32147",
   "metadata": {},
   "outputs": [
    {
     "data": {
      "application/vnd.microsoft.datawrangler.viewer.v0+json": {
       "columns": [
        {
         "name": "index",
         "rawType": "int64",
         "type": "integer"
        },
        {
         "name": "hotel",
         "rawType": "object",
         "type": "string"
        },
        {
         "name": "is_canceled",
         "rawType": "boolean",
         "type": "boolean"
        },
        {
         "name": "lead_time",
         "rawType": "int64",
         "type": "integer"
        },
        {
         "name": "arrival_date_month",
         "rawType": "object",
         "type": "string"
        },
        {
         "name": "arrival_date_week_number",
         "rawType": "int64",
         "type": "integer"
        },
        {
         "name": "arrival_date_year",
         "rawType": "int64",
         "type": "integer"
        },
        {
         "name": "arrival_date_day_of_month",
         "rawType": "int64",
         "type": "integer"
        },
        {
         "name": "stays_in_weekend_nights",
         "rawType": "int64",
         "type": "integer"
        },
        {
         "name": "stays_in_week_nights",
         "rawType": "int64",
         "type": "integer"
        },
        {
         "name": "adult_count",
         "rawType": "int64",
         "type": "integer"
        },
        {
         "name": "child_count",
         "rawType": "int64",
         "type": "integer"
        },
        {
         "name": "baby_count",
         "rawType": "int64",
         "type": "integer"
        },
        {
         "name": "meal",
         "rawType": "object",
         "type": "string"
        },
        {
         "name": "country",
         "rawType": "object",
         "type": "string"
        },
        {
         "name": "market_segment",
         "rawType": "object",
         "type": "string"
        },
        {
         "name": "distribution_channel",
         "rawType": "object",
         "type": "string"
        },
        {
         "name": "is_repeated_guest",
         "rawType": "boolean",
         "type": "boolean"
        },
        {
         "name": "previous_cancellations",
         "rawType": "int64",
         "type": "integer"
        },
        {
         "name": "previous_bookings_not_canceled",
         "rawType": "int64",
         "type": "integer"
        },
        {
         "name": "reserved_room_type",
         "rawType": "object",
         "type": "string"
        },
        {
         "name": "assigned_room_type",
         "rawType": "object",
         "type": "string"
        },
        {
         "name": "booking_changes",
         "rawType": "int64",
         "type": "integer"
        },
        {
         "name": "deposit_type",
         "rawType": "object",
         "type": "string"
        },
        {
         "name": "agent",
         "rawType": "float64",
         "type": "float"
        },
        {
         "name": "days_in_waiting_list",
         "rawType": "int64",
         "type": "integer"
        },
        {
         "name": "customer_type",
         "rawType": "object",
         "type": "string"
        },
        {
         "name": "adr",
         "rawType": "float64",
         "type": "float"
        },
        {
         "name": "required_car_parking_spaces",
         "rawType": "int64",
         "type": "integer"
        },
        {
         "name": "total_of_special_requests",
         "rawType": "int64",
         "type": "integer"
        },
        {
         "name": "reservation_status",
         "rawType": "object",
         "type": "string"
        },
        {
         "name": "reservation_status_date",
         "rawType": "object",
         "type": "string"
        },
        {
         "name": "lead_time_bin",
         "rawType": "category",
         "type": "unknown"
        },
        {
         "name": "lead_time_binned",
         "rawType": "category",
         "type": "unknown"
        }
       ],
       "ref": "bd3ed579-952f-410b-b0b0-74db04daa519",
       "rows": [],
       "shape": {
        "columns": 33,
        "rows": 0
       }
      },
      "text/html": [
       "<div>\n",
       "<style scoped>\n",
       "    .dataframe tbody tr th:only-of-type {\n",
       "        vertical-align: middle;\n",
       "    }\n",
       "\n",
       "    .dataframe tbody tr th {\n",
       "        vertical-align: top;\n",
       "    }\n",
       "\n",
       "    .dataframe thead th {\n",
       "        text-align: right;\n",
       "    }\n",
       "</style>\n",
       "<table border=\"1\" class=\"dataframe\">\n",
       "  <thead>\n",
       "    <tr style=\"text-align: right;\">\n",
       "      <th></th>\n",
       "      <th>hotel</th>\n",
       "      <th>is_canceled</th>\n",
       "      <th>lead_time</th>\n",
       "      <th>arrival_date_month</th>\n",
       "      <th>arrival_date_week_number</th>\n",
       "      <th>arrival_date_year</th>\n",
       "      <th>arrival_date_day_of_month</th>\n",
       "      <th>stays_in_weekend_nights</th>\n",
       "      <th>stays_in_week_nights</th>\n",
       "      <th>adult_count</th>\n",
       "      <th>...</th>\n",
       "      <th>agent</th>\n",
       "      <th>days_in_waiting_list</th>\n",
       "      <th>customer_type</th>\n",
       "      <th>adr</th>\n",
       "      <th>required_car_parking_spaces</th>\n",
       "      <th>total_of_special_requests</th>\n",
       "      <th>reservation_status</th>\n",
       "      <th>reservation_status_date</th>\n",
       "      <th>lead_time_bin</th>\n",
       "      <th>lead_time_binned</th>\n",
       "    </tr>\n",
       "  </thead>\n",
       "  <tbody>\n",
       "  </tbody>\n",
       "</table>\n",
       "<p>0 rows × 33 columns</p>\n",
       "</div>"
      ],
      "text/plain": [
       "Empty DataFrame\n",
       "Columns: [hotel, is_canceled, lead_time, arrival_date_month, arrival_date_week_number, arrival_date_year, arrival_date_day_of_month, stays_in_weekend_nights, stays_in_week_nights, adult_count, child_count, baby_count, meal, country, market_segment, distribution_channel, is_repeated_guest, previous_cancellations, previous_bookings_not_canceled, reserved_room_type, assigned_room_type, booking_changes, deposit_type, agent, days_in_waiting_list, customer_type, adr, required_car_parking_spaces, total_of_special_requests, reservation_status, reservation_status_date, lead_time_bin, lead_time_binned]\n",
       "Index: []\n",
       "\n",
       "[0 rows x 33 columns]"
      ]
     },
     "execution_count": 68,
     "metadata": {},
     "output_type": "execute_result"
    }
   ],
   "source": [
    "hotel_bookings.loc[hotel_bookings.duplicated(keep=False)]       "
   ]
  },
  {
   "cell_type": "code",
   "execution_count": null,
   "id": "16070b3f",
   "metadata": {},
   "outputs": [],
   "source": []
  }
 ],
 "metadata": {
  "kernelspec": {
   "display_name": "base",
   "language": "python",
   "name": "python3"
  },
  "language_info": {
   "codemirror_mode": {
    "name": "ipython",
    "version": 3
   },
   "file_extension": ".py",
   "mimetype": "text/x-python",
   "name": "python",
   "nbconvert_exporter": "python",
   "pygments_lexer": "ipython3",
   "version": "3.13.5"
  }
 },
 "nbformat": 4,
 "nbformat_minor": 5
}
