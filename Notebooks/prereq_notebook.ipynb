{
 "cells": [
  {
   "cell_type": "markdown",
   "id": "1b7f688e",
   "metadata": {},
   "source": [
    "Hello! I am  Davonta garnett. I'm excited to learn with everyone!"
   ]
  },
  {
   "cell_type": "code",
   "execution_count": null,
   "id": "f9db4bb0",
   "metadata": {},
   "outputs": [],
   "source": [
    "print(\"Hello, world!\")"
   ]
  }
 ],
 "metadata": {
  "language_info": {
   "name": "python"
  }
 },
 "nbformat": 4,
 "nbformat_minor": 5
}
